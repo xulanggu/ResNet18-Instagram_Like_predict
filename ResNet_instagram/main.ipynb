{
 "cells": [
  {
   "cell_type": "code",
   "execution_count": null,
   "metadata": {},
   "outputs": [],
   "source": [
    "import torch\n",
    "import torch.nn as nn\n",
    "import numpy as np\n",
    "import torch.optim as optim\n",
    "from torchvision import models, transforms\n",
    "from torch.utils.data import DataLoader, Dataset, random_split\n",
    "from PIL import Image\n",
    "from sklearn.model_selection import train_test_split\n",
    "import pandas as pd\n",
    "import os"
   ]
  },
  {
   "cell_type": "code",
   "execution_count": null,
   "metadata": {},
   "outputs": [],
   "source": [
    "csv_file = 'instagram_data.csv'\n",
    "df = pd.read_csv(csv_file)\n",
    "\n",
    "\n",
    "print(df.head())"
   ]
  },
  {
   "cell_type": "code",
   "execution_count": null,
   "metadata": {},
   "outputs": [],
   "source": [
    "from instagram_dataset import InstagramDataset\n",
    "\n",
    "transform = transforms.Compose([\n",
    "    transforms.Resize((224, 224)),\n",
    "    transforms.ToTensor(),\n",
    "    transforms.Normalize(mean=[0.485, 0.456, 0.406], std=[0.229, 0.224, 0.225])\n",
    "])\n",
    "\n",
    "dataset = InstagramDataset(csv_file='instagram_data.csv', root_dir='insta_data', transform=transform)\n",
    "# dataloader = DataLoader(dataset, batch_size=32, shuffle=True, num_workers=4)\n",
    "train_size = int(0.8 * len(dataset))\n",
    "test_size = len(dataset) - train_size\n",
    "train_dataset, test_dataset = random_split(dataset, [train_size, test_size])\n",
    "\n",
    "train_loader = DataLoader(train_dataset, batch_size=32, shuffle=True, num_workers=4)\n",
    "test_loader = DataLoader(test_dataset, batch_size=32, shuffle=False, num_workers=4)\n",
    "\n",
    "\n",
    "\n",
    "for images, likes in train_loader:\n",
    "    print(f'Batch of train_images has shape: {images.shape}')\n",
    "    print(f'Batch of train_likes: {likes}')\n",
    "    \n",
    "    break  \n",
    "for images, likes in test_loader:\n",
    "    print(f'Batch of test_images has shape: {images.shape}')\n",
    "    print(f'Batch of test_likes: {likes}')\n",
    "    \n",
    "    break  \n"
   ]
  },
  {
   "cell_type": "code",
   "execution_count": null,
   "metadata": {},
   "outputs": [],
   "source": [
    "resnet18 = models.resnet18(pretrained=True)\n",
    "device = torch.device(\"cuda:2\" if torch.cuda.is_available() else \"cpu\")\n",
    "resnet18 = resnet18.to(device)\n",
    "num_ftrs = resnet18.fc.in_features\n",
    "# resnet18.fc = nn.Linear(num_ftrs, 1)\n",
    "# early_stopping = EarlyStopping(patience=7, verbose=True, path='resnet18_checkpoint.pth')\n",
    "resnet18.fc = nn.Sequential(\n",
    "    nn.Linear(num_ftrs, 512),\n",
    "    nn.ReLU(),\n",
    "    nn.Dropout(0.5), \n",
    "    nn.Linear(512, 128),\n",
    "    nn.ReLU(),\n",
    "    nn.Linear(128, 1)  \n",
    ")"
   ]
  },
  {
   "cell_type": "code",
   "execution_count": null,
   "metadata": {},
   "outputs": [],
   "source": []
  },
  {
   "cell_type": "code",
   "execution_count": 10,
   "metadata": {},
   "outputs": [],
   "source": [
    "criterion = nn.MSELoss()\n",
    "optimizer = optim.Adam(resnet18.parameters(), lr=0.001)"
   ]
  },
  {
   "cell_type": "code",
   "execution_count": null,
   "metadata": {},
   "outputs": [],
   "source": [
    "num_epochs = 10\n",
    "\n",
    "resnet18.train()\n",
    "\n",
    "for epoch in range(num_epochs):\n",
    "    running_loss = 0.0\n",
    "\n",
    "    for inputs, labels in train_loader:\n",
    "\n",
    "        # inputs = inputs.to(device)\n",
    "        optimizer.zero_grad()\n",
    "\n",
    "        \n",
    "        outputs = resnet18(inputs)\n",
    "        loss = criterion(outputs.squeeze(), labels)\n",
    "\n",
    "       \n",
    "        loss.backward()\n",
    "        optimizer.step()\n",
    "\n",
    "        running_loss += loss.item()\n",
    "    \n",
    "    print(f'Epoch [{epoch+1}/{num_epochs}], Loss: {running_loss/len(train_loader):.4f}')\n"
   ]
  },
  {
   "cell_type": "code",
   "execution_count": null,
   "metadata": {},
   "outputs": [],
   "source": [
    "resnet18.load_state_dict(torch.load('resnet18_model.pth'))"
   ]
  },
  {
   "cell_type": "code",
   "execution_count": null,
   "metadata": {},
   "outputs": [],
   "source": [
    "# Evaluating the model on the test set\n",
    "resnet18.eval()\n",
    "with torch.no_grad():\n",
    "    total = 0\n",
    "    correct = 0\n",
    "    for inputs, labels in test_loader:\n",
    "        inputs, labels = inputs.to(device), labels.to(device)\n",
    "        outputs = resnet18(inputs).squeeze()\n",
    "\n",
    "        log_preds = torch.log(outputs)\n",
    "        log_labels = torch.log(labels)\n",
    "\n",
    "        lower_bound = log_labels * 0.8\n",
    "        upper_bound = log_labels * 1.2\n",
    "\n",
    "        within_range = (log_preds >= lower_bound) & (log_preds <= upper_bound)\n",
    "        correct += within_range.sum().item()\n",
    "        total += labels.size(0)\n",
    "\n",
    "    accuracy = correct / total * 100\n",
    "    print(f'Accuracy: {accuracy:.2f}%')\n",
    "\n",
    "resnet18.eval()\n",
    "test_relative_differences = []\n",
    "with torch.no_grad():\n",
    "    for inputs, labels in test_loader:\n",
    "        inputs, labels = inputs.to(device), labels.to(device)\n",
    "        outputs = resnet18(inputs).squeeze()\n",
    "\n",
    "        log_preds = torch.log(outputs)\n",
    "        log_labels = torch.log(labels)\n",
    "\n",
    "        relative_difference = torch.abs(log_preds - log_labels) / torch.abs(log_labels)\n",
    "        test_relative_differences.append(relative_difference)\n",
    "\n",
    "average_relative_difference = torch.cat(test_relative_differences).mean().item()\n",
    "print(f'Average Relative Difference on Test Set: {average_relative_difference*100:.4f}%')"
   ]
  },
  {
   "cell_type": "code",
   "execution_count": 51,
   "metadata": {},
   "outputs": [],
   "source": [
    "torch.save(resnet18.state_dict(), 'resnet18_model.pth')"
   ]
  }
 ],
 "metadata": {
  "kernelspec": {
   "display_name": "pytorch",
   "language": "python",
   "name": "python3"
  },
  "language_info": {
   "codemirror_mode": {
    "name": "ipython",
    "version": 3
   },
   "file_extension": ".py",
   "mimetype": "text/x-python",
   "name": "python",
   "nbconvert_exporter": "python",
   "pygments_lexer": "ipython3",
   "version": "3.8.19"
  }
 },
 "nbformat": 4,
 "nbformat_minor": 2
}
